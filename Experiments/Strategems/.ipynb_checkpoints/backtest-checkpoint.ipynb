{
 "cells": [
  {
   "cell_type": "code",
   "execution_count": 3,
   "metadata": {},
   "outputs": [],
   "source": [
    "using Strategems, Indicators, Temporal, Dates"
   ]
  },
  {
   "cell_type": "code",
   "execution_count": 22,
   "metadata": {},
   "outputs": [
    {
     "name": "stdout",
     "output_type": "stream",
     "text": [
      "C:\\Users\\s154857\\.julia\\packages\\Strategems\\WM60M\\srcC:/Users/s154857/Documents/Bayesian_trader/Data\\ETHUSDT-1m-2021-06-06.csv"
     ]
    },
    {
     "ename": "LoadError",
     "evalue": "\u001b[91mMust be univariate or contain Close/Settle/Last.\u001b[39m",
     "output_type": "error",
     "traceback": [
      "\u001b[91mMust be univariate or contain Close/Settle/Last.\u001b[39m",
      "",
      "Stacktrace:",
      " [1] error(::String) at .\\error.jl:33",
      " [2] close_fun(::TS{Float64,Date}, ::typeof(mama), ::Array{Symbol,1}; args::Base.Iterators.Pairs{Symbol,Float64,Tuple{Symbol,Symbol},NamedTuple{(:fastlimit, :slowlimit),Tuple{Float64,Float64}}}) at C:\\Users\\s154857\\.julia\\packages\\Indicators\\S4L00\\src\\temporal.jl:8",
      " [3] mama(::TS{Float64,Date}; args::Base.Iterators.Pairs{Symbol,Float64,Tuple{Symbol,Symbol},NamedTuple{(:fastlimit, :slowlimit),Tuple{Float64,Float64}}}) at C:\\Users\\s154857\\.julia\\packages\\Indicators\\S4L00\\src\\temporal.jl:67",
      " [4] #f#8 at .\\In[22]:37 [inlined]",
      " [5] calculate(::Indicator, ::TS{Float64,Date}) at C:\\Users\\s154857\\.julia\\packages\\Strategems\\WM60M\\src\\model\\indicator.jl:15",
      " [6] generate_trades(::Strategy; verbose::Bool) at C:\\Users\\s154857\\.julia\\packages\\Strategems\\WM60M\\src\\compute\\backtest.jl:10",
      " [7] #generate_trades!#14 at C:\\Users\\s154857\\.julia\\packages\\Strategems\\WM60M\\src\\compute\\backtest.jl:20 [inlined]",
      " [8] backtest(::Strategy; px_trade::Symbol, px_close::Symbol, verbose::Bool) at C:\\Users\\s154857\\.julia\\packages\\Strategems\\WM60M\\src\\compute\\backtest.jl:27",
      " [9] backtest at C:\\Users\\s154857\\.julia\\packages\\Strategems\\WM60M\\src\\compute\\backtest.jl:26 [inlined]",
      " [10] #backtest!#16 at C:\\Users\\s154857\\.julia\\packages\\Strategems\\WM60M\\src\\compute\\backtest.jl:64 [inlined]",
      " [11] backtest!(::Strategy) at C:\\Users\\s154857\\.julia\\packages\\Strategems\\WM60M\\src\\compute\\backtest.jl:64",
      " [12] top-level scope at In[22]:55",
      " [13] include_string(::Function, ::Module, ::String, ::String) at .\\loading.jl:1091"
     ]
    }
   ],
   "source": [
    "# define universe and gather data\n",
    "# assets = [\"CHRIS/CME_CL1\", \"CHRIS/CME_RB1\"]\n",
    "# universe = Universe(assets)\n",
    "# function datasource(asset::String; save_downloads::Bool=true)::TS\n",
    "#     savedata_path = joinpath(dirname(pathof(Strategems)), \"..\", \"data\", \"$asset.csv\")\n",
    "#     print(savedata_path)\n",
    "#     if isfile(savedata_path)\n",
    "#         return Temporal.tsread(savedata_path)\n",
    "#     else\n",
    "#         X = quandl(asset)\n",
    "#         if save_downloads\n",
    "#             if !isdir(dirname(savedata_path))\n",
    "#                 mkdir(dirname(savedata_path))\n",
    "#             end\n",
    "#             Temporal.tswrite(X, savedata_path)\n",
    "#         end\n",
    "#         return X\n",
    "#     end\n",
    "# end\n",
    "\n",
    "assets = [String(\"C:/Users/s154857/Documents/Bayesian_trader/Data\")]\n",
    "universe = Universe(assets)\n",
    "function datasource(dataroot_path::String, file_name::String=\"ETHUSDT-1m-2021-06-06.csv\")\n",
    "    savedata_path = joinpath(dataroot_path, file_name)\n",
    "    print(dirname(pathof(Strategems))\\n)\n",
    "    print(savedata_path)\n",
    "    return Temporal.tsread(savedata_path)\n",
    "end\n",
    "    \n",
    "gather!(universe, source=datasource)\n",
    "\n",
    "# define indicators and parameter space\n",
    "arg_names     = [:fastlimit, :slowlimit]\n",
    "arg_defaults  = [0.5, 0.05]\n",
    "arg_ranges    = [0.01:0.01:0.99, 0.01:0.01:0.99]\n",
    "paramset      = ParameterSet(arg_names, arg_defaults, arg_ranges)\n",
    "f(x; args...) = Indicators.mama(x; args...)\n",
    "indicator     = Indicator(f, paramset)\n",
    "\n",
    "# define signals that will trigger trading decisions\n",
    "# note the uparrow infix operator is defined to simplify one variable crossing over another\n",
    "# (similarly for the downarrow infix operator for crossing under)\n",
    "siglong  = @signal MAMA ↑ FAMA\n",
    "sigshort = @signal MAMA ↓ FAMA\n",
    "sigexit  = @signal MAMA == FAMA\n",
    "\n",
    "# define the trading rules\n",
    "longrule  = @rule siglong → long 100\n",
    "shortrule = @rule sigshort → short 100\n",
    "exitrule  = @rule sigexit → liquidate 1.0\n",
    "rules     = (longrule, shortrule, exitrule)\n",
    "\n",
    "# run strategy\n",
    "strat = Strategy(universe, indicator, rules)\n",
    "backtest!(strat)\n",
    "optimize!(strat, samples=0)  # randomly sample the parameter space (0 -> use all combinations)\n",
    "\n",
    "# cumulative pnl for each combination of the parameter space\n",
    "strat.backtest.optimization\n",
    "\n",
    "# visualizing results with the Plots.jl package\n",
    "using Plots\n",
    "gr()\n",
    "(x, y, z) = (strat.backtest.optimization[:,i] for i in 1:3)\n",
    "surface(x, y, z)"
   ]
  },
  {
   "cell_type": "code",
   "execution_count": null,
   "metadata": {},
   "outputs": [],
   "source": []
  }
 ],
 "metadata": {
  "kernelspec": {
   "display_name": "Julia 1.5.2",
   "language": "julia",
   "name": "julia-1.5"
  },
  "language_info": {
   "file_extension": ".jl",
   "mimetype": "application/julia",
   "name": "julia",
   "version": "1.5.2"
  }
 },
 "nbformat": 4,
 "nbformat_minor": 4
}
