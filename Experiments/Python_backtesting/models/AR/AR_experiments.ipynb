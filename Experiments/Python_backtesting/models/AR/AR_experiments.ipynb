{
 "cells": [
  {
   "cell_type": "code",
   "execution_count": 1,
   "id": "5013f9ca",
   "metadata": {},
   "outputs": [],
   "source": [
    "\n",
    "using Revise\n",
    "using Rocket\n",
    "using ReactiveMP\n",
    "using GraphPPL\n",
    "using Distributions\n",
    "using LinearAlgebra\n",
    "import ProgressMeter\n",
    "using PyCall\n",
    "using HDF5\n",
    "\n"
   ]
  },
  {
   "cell_type": "code",
   "execution_count": 2,
   "id": "6f8a2306",
   "metadata": {},
   "outputs": [
    {
     "data": {
      "text/plain": [
       "lar_model (generic function with 2 methods)"
      ]
     },
     "execution_count": 2,
     "metadata": {},
     "output_type": "execute_result"
    }
   ],
   "source": [
    "@model function lar_model_multivariate(order, c, stype)\n",
    "    mx_prev = datavar(Vector{Float64})\n",
    "    vx_prev = datavar(Matrix{Float64})\n",
    "    γ_a = datavar(Float64)\n",
    "    γ_b = datavar(Float64)\n",
    "    m_θ = datavar(Vector{Float64})\n",
    "    v_θ = datavar(Matrix{Float64})\n",
    "    y = datavar(Float64)\n",
    "    \n",
    "    θ  ~ MvNormalMeanCovariance(m_θ, v_θ) where { q = MeanField() }\n",
    "    x_prev ~ MvNormalMeanCovariance(mx_prev, vx_prev) where { q = MeanField() }\n",
    "    \n",
    "    γ  ~ GammaShapeRate(γ_a, γ_b) where { q = MeanField() }\n",
    "\n",
    "    γ_y = constvar(1.0)\n",
    "    ct  = constvar(c)\n",
    "\n",
    "    meta = ARMeta(Multivariate, order, stype)\n",
    "\n",
    "    ar_node, x ~ AR(x_prev, θ, γ) where { q = q(y, x_prev)q(γ)q(θ), meta = meta }\n",
    "    y ~ NormalMeanPrecision(dot(ct, x), γ_y) where { q = MeanField() }\n",
    "\n",
    "    return x, mx_prev, vx_prev, x_prev, y, θ,m_θ,v_θ, γ, γ_a,γ_b,ar_node\n",
    "end\n",
    "\n",
    "\n",
    "using BenchmarkTools\n",
    "\n",
    "lar_model(::Type{ Multivariate }, order, c, stype) = lar_model_multivariate(order, c, stype, options = (limit_stack_depth = 50, ))\n",
    "lar_model(::Type{ Univariate }, order, c, stype)   = lar_model_univariate(order, c, stype, options = (limit_stack_depth = 50, ))\n",
    "\n"
   ]
  },
  {
   "cell_type": "code",
   "execution_count": 3,
   "id": "e8e256fe",
   "metadata": {},
   "outputs": [
    {
     "data": {
      "text/plain": [
       "start_inference (generic function with 3 methods)"
      ]
     },
     "execution_count": 3,
     "metadata": {},
     "output_type": "execute_result"
    }
   ],
   "source": [
    "\n",
    "\n",
    "# setup inference\n",
    "function start_inference(data,mx_min,vx_min,mθ,vθ,γa,γb, order, niter, artype=Multivariate, stype=ARsafe())\n",
    "\n",
    "    c = ReactiveMP.ar_unit(artype, order)\n",
    "\n",
    "    model, (x_t, mx_t_min, vx_t_min, x_t_min, y_t, θ, m_θ,v_θ,γ,γ_a,γ_b,ar_node) = lar_model(artype, order, c, stype)\n",
    "    \n",
    "    x_t_current = MvNormalMeanCovariance(zeros(order),diageye(order))\n",
    "    θ_current = MvNormalMeanCovariance(mθ, vθ)\n",
    "    γ_current = GammaShapeRate(γa, γb)\n",
    "    \n",
    "    x_t_stream = keep(Marginal)\n",
    "    θ_stream = keep(Marginal)\n",
    "    γ_stream = keep(Marginal)\n",
    "    \n",
    "    x_t_subscribtion = subscribe!(getmarginal(x_t), (x_t_posterior) -> next!(x_t_stream, x_t_posterior))\n",
    "    γ_subscription = subscribe!(getmarginal(γ), (γ_posterior) -> next!(γ_stream, γ_posterior))\n",
    "    θ_subscription = subscribe!(getmarginal(θ), (θ_posterior) -> next!(θ_stream, θ_posterior))\n",
    "\n",
    "    setmarginal!(x_t, x_t_current)\n",
    "    setmarginal!(γ, γ_current)\n",
    "    setmarginal!(θ, θ_current)\n",
    "    setmarginal!(ar_node, :y_x, MvNormalMeanPrecision(zeros(2*order), Matrix{Float64}(I, 2*order, 2*order)))\n",
    "   \n",
    "    \n",
    "#     update!(mx_t_min, mx_min)\n",
    "#     update!(vx_t_min, vx_min)\n",
    "#     update!(γ_a, γa)\n",
    "#     update!(γ_b, γb)\n",
    "#     update!(m_θ, mθ)\n",
    "#     update!(v_θ, vθ)\n",
    "    \n",
    "    for _ in 1:niter\n",
    "        update!(y_t, data)\n",
    "        update!(mx_t_min, mx_min)\n",
    "        update!(vx_t_min, vx_min)\n",
    "        update!(γ_a, γa)\n",
    "        update!(γ_b, γb)\n",
    "        update!(m_θ, mθ)\n",
    "        update!(v_θ, vθ)\n",
    "    end\n",
    "    \n",
    "#     for _ in 1:niter\n",
    "#         update!(y_t, data)\n",
    "#         update!(mx_t_min, mean(x_t_current))\n",
    "#         update!(vx_t_min, cov(x_t_current))\n",
    "#         update!(γ_a, shape(γ_current))\n",
    "#         update!(γ_b, rate(γ_current))\n",
    "#         update!(m_θ, mean(θ_current))\n",
    "#         update!(v_θ, cov(θ_current))\n",
    "#     end\n",
    "\n",
    "#     x_t_stream ,θ_stream ,γ_stream\n",
    "\n",
    "return mean(x_t_stream[end]), cov(x_t_stream[end]), mean(θ_stream[end]), cov(θ_stream[end]), shape(γ_stream[end]), rate(γ_stream[end])\n",
    "# return mean(x_t_current), cov(x_t_current), mean(θ_current), cov(θ_current), shape(γ_current), rate(γ_current)\n",
    "# return mx_t_min, vx_t_min, γ_a, γ_b, m_θ, v_θ\n",
    "end\n",
    "\n",
    "# "
   ]
  },
  {
   "cell_type": "code",
   "execution_count": 7,
   "id": "365da00e",
   "metadata": {},
   "outputs": [
    {
     "name": "stdout",
     "output_type": "stream",
     "text": [
      "1.0[0.7326603259265834, 0.0, 0.0]\n",
      "2.0[1.5918260603345191, 0.7025377880486924, 0.0]\n",
      "3.0[2.621322950030165, 1.6334367250781978, 0.6988639424503474]\n",
      "4.0[3.754583033494254, 2.6800063357701074, 1.6368536109472904]\n",
      "5.0[4.886646472864992, 3.7721048516891784, 2.6641594243141515]\n",
      "6.0[5.977183065382432, 4.866835123315578, 3.7360779924333496]\n",
      "7.0[7.03306714761773, 5.935644233796427, 4.819678940792302]\n",
      "8.0[8.066551461535472, 6.979864045040783, 5.884449048807563]\n",
      "9.0[9.086653145161849, 8.00683457693946, 6.927985031772058]\n",
      "10.0[10.099285683677854, 9.022842586885705, 7.955423793905819]\n",
      "11.0[11.10782216819495, 10.032488121494534, 8.972141567955521]\n",
      "12.0[12.114122448381313, 11.038537105606588, 9.982377723767732]\n",
      "13.0[13.119187526245776, 12.042559895678954, 10.98880544839012]\n",
      "14.0[14.123554281215482, 13.045436819965998, 11.992975559699572]\n",
      "15.0[15.127390281203994, 14.047739767810258, 12.995835754579318]\n",
      "16.0[16.130873153753992, 15.049589354782023, 13.9979934889443]\n",
      "17.0[17.13414341639399, 16.051110407909036, 14.99959138951686]\n",
      "18.0[18.137195799707143, 17.052486675514285, 16.00079443720788]\n",
      "19.0[19.14009286946751, 18.053691064936576, 17.00179658931836]\n",
      "20.0[20.142838328593644, 19.05481193068327, 18.002580371045916]\n"
     ]
    }
   ],
   "source": [
    "ar_order = 3\n",
    "mx_min = zeros(ar_order)\n",
    "vx_min = diageye(ar_order)\n",
    "mθ = zeros(ar_order)\n",
    "vθ = diageye(ar_order)\n",
    "γa = 0.1\n",
    "γb = 0.1\n",
    "\n",
    "for i = 1.0:20.0\n",
    "    mx_min, vx_min, mθ, vθ, γa, γb = start_inference(i,mx_min,vx_min,mθ,vθ,γa,γb,ar_order,20);\n",
    "    print(i, mx_min,'\\n')\n",
    "end"
   ]
  }
 ],
 "metadata": {
  "kernelspec": {
   "display_name": "julia 1.6.1",
   "language": "julia",
   "name": "julia-1.6"
  },
  "language_info": {
   "file_extension": ".jl",
   "mimetype": "application/julia",
   "name": "julia",
   "version": "1.6.1"
  }
 },
 "nbformat": 4,
 "nbformat_minor": 5
}
